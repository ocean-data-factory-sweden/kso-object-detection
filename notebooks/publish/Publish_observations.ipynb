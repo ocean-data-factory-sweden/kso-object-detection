{
 "cells": [
  {
   "cell_type": "markdown",
   "id": "hawaiian-ratio",
   "metadata": {
    "id": "hawaiian-ratio"
   },
   "source": [
    "<img align=\"left\" src=\"https://panoptes-uploads.zooniverse.org/project_avatar/86c23ca7-bbaa-4e84-8d8a-876819551431.png\" type=\"image/png\" height=100 width=100>\n",
    "</img>\n",
    "<h1 align=\"right\">Run machine learning models on footage</h1>\n",
    "<h3 align=\"right\"><a href=\"https://colab.research.google.com/github/ocean-data-factory-sweden/kso/blob/main/notebooks/publish/Publish_observations.ipynb\" target=\"_parent\"><img src=\"https://colab.research.google.com/assets/colab-badge.svg\" alt=\"Open In Colab\"/></a></h3>\n",
    "<h3 align=\"right\">Written by the KSO team</h3>"
   ]
  },
  {
   "cell_type": "markdown",
   "id": "recovered-hamburg",
   "metadata": {
    "id": "recovered-hamburg"
   },
   "source": [
    "# Set up KSO requirements"
   ]
  },
  {
   "cell_type": "markdown",
   "id": "fe8756c2",
   "metadata": {
    "id": "fe8756c2"
   },
   "source": [
    "### Install requirements and load KSO modules"
   ]
  },
  {
   "cell_type": "markdown",
   "id": "_L2rby6aLfWQ",
   "metadata": {
    "id": "_L2rby6aLfWQ"
   },
   "source": [
    "Installing the requirements in Google Colab takes ~4 mins and might automatically crash/restart the session. Please run this cell until you get the \"KSO successfully imported!\" message."
   ]
  },
  {
   "cell_type": "code",
   "execution_count": 1,
   "id": "ab2bc392",
   "metadata": {
    "id": "ab2bc392"
   },
   "outputs": [
    {
     "name": "stdout",
     "output_type": "stream",
     "text": [
      "Error importing kso modules: No module named 'kso_utils'\n",
      "Development mode ON - kso-utils added to the system.\n",
      "KSO successfully imported!\n"
     ]
    }
   ],
   "source": [
    "%matplotlib inline\n",
    "import os\n",
    "import sys\n",
    "\n",
    "\n",
    "def initiate_dev_version():\n",
    "    kso_path = os.path.abspath(os.path.join(os.getcwd(), \"../..\"))\n",
    "    if os.path.isdir(os.path.join(kso_path, \"kso_utils\")):\n",
    "        sys.path.insert(0, kso_path)\n",
    "        %load_ext autoreload\n",
    "        %autoreload 2\n",
    "        print(\"Development mode ON - kso-utils added to the system.\")\n",
    "    else:\n",
    "        raise FileNotFoundError(\"kso_utils directory not found in the expected path.\")\n",
    "\n",
    "\n",
    "def install_kso_utils():\n",
    "    !pip install -q kso-utils\n",
    "    # Temporary workaround to install panoptes from the source (avoid requests incompatibility)\n",
    "    !pip install git+https://github.com/zooniverse/panoptes-python-client.git\n",
    "    print(\"Restarting runtime to apply package changes...\")\n",
    "    os.kill(os.getpid(), 9)\n",
    "\n",
    "\n",
    "try:\n",
    "    initiate_dev_version()\n",
    "    import kso_utils.widgets as kso_widgets\n",
    "    import kso_utils.project_utils as p_utils\n",
    "    import kso_utils.yolo_utils as y_utils\n",
    "    from kso_utils.project import ProjectProcessor, MLProjectProcessor\n",
    "\n",
    "    print(\"KSO dev successfully imported!\")\n",
    "except Exception as e:\n",
    "    install_kso_utils()\n",
    "    import kso_utils.widgets as kso_widgets\n",
    "    import kso_utils.project_utils as p_utils\n",
    "    import kso_utils.yolo_utils as y_utils\n",
    "    from kso_utils.project import ProjectProcessor, MLProjectProcessor\n",
    "\n",
    "    print(\"KSO PyPi successfully imported!\")"
   ]
  },
  {
   "cell_type": "markdown",
   "id": "4085ec1a",
   "metadata": {
    "id": "4085ec1a"
   },
   "source": [
    "### Choose your project"
   ]
  },
  {
   "cell_type": "code",
   "execution_count": 2,
   "id": "incident-surveillance",
   "metadata": {
    "id": "incident-surveillance"
   },
   "outputs": [
    {
     "data": {
      "application/vnd.jupyter.widget-view+json": {
       "model_id": "0f253369e28e4a17b6862e5f6a68d1f4",
       "version_major": 2,
       "version_minor": 0
      },
      "text/plain": [
       "Dropdown(description='Project:', options=('Template project', 'Koster_Seafloor_Obs', 'Spyfish_Aotearoa', 'SGU'…"
      ]
     },
     "metadata": {},
     "output_type": "display_data"
    }
   ],
   "source": [
    "project_name = kso_widgets.choose_project()"
   ]
  },
  {
   "cell_type": "markdown",
   "id": "23a54ce6",
   "metadata": {
    "id": "23a54ce6"
   },
   "source": [
    "### Initiate project's database"
   ]
  },
  {
   "cell_type": "code",
   "execution_count": 3,
   "id": "4d3e1b35",
   "metadata": {
    "id": "4d3e1b35"
   },
   "outputs": [
    {
     "name": "stderr",
     "output_type": "stream",
     "text": [
      "INFO:root:Template project loaded succesfully\n",
      "INFO:root:Retrieving the file from https://drive.google.com/uc?&confirm=s5vl&id=1PZGRoSY_UpyLfMhRphMUMwDXw4yx1_Fn\n",
      "Downloading...\n",
      "From: https://drive.google.com/uc?&confirm=s5vl&id=1PZGRoSY_UpyLfMhRphMUMwDXw4yx1_Fn\n",
      "To: /Users/jurie.germishuys/Workspace/odf/koster-uw/kso/notebooks/publish/db_csv_info.zip\n",
      "100%|██████████| 3.23k/3.23k [00:00<00:00, 3.45MB/s]\n",
      "INFO:root:Updated species table from the temporary database\n",
      "INFO:root:Updated sites table from the temporary database\n",
      "INFO:root:Updated movies table from the temporary database\n"
     ]
    }
   ],
   "source": [
    "# Find project\n",
    "project = p_utils.find_project(project_name=project_name.value)\n",
    "# Initialise pp\n",
    "pp = ProjectProcessor(project)"
   ]
  },
  {
   "cell_type": "code",
   "execution_count": 4,
   "id": "5bbe9710",
   "metadata": {
    "id": "5bbe9710"
   },
   "outputs": [
    {
     "name": "stderr",
     "output_type": "stream",
     "text": [
      "INFO:root:ML Project successfully initialised.\n"
     ]
    }
   ],
   "source": [
    "# Initialise mlp\n",
    "mlp = MLProjectProcessor(pp)"
   ]
  },
  {
   "cell_type": "markdown",
   "id": "1d3f913f",
   "metadata": {
    "id": "1d3f913f"
   },
   "source": [
    "# Run model on footage"
   ]
  },
  {
   "cell_type": "markdown",
   "id": "d5ece376",
   "metadata": {
    "id": "d5ece376"
   },
   "source": [
    "### Choose the model"
   ]
  },
  {
   "cell_type": "code",
   "execution_count": 29,
   "id": "c41909d3",
   "metadata": {
    "id": "c41909d3"
   },
   "outputs": [
    {
     "name": "stdout",
     "output_type": "stream",
     "text": [
      "Downloading ref-gu-4sp.zip from https://zenodo.org/api/records/10932673/files/ref-gu-4sp.zip/content...\n",
      "ref-gu-4sp.zip downloaded successfully.\n"
     ]
    },
    {
     "data": {
      "application/vnd.jupyter.widget-view+json": {
       "model_id": "2765d3c420fe4625bf4d0a6ec4e460d8",
       "version_major": 2,
       "version_minor": 0
      },
      "text/plain": [
       "Dropdown(description='Select Zenodo model: ', options=(('ref-gu-4sp', 'models/best.pt'),), style=DescriptionSt…"
      ]
     },
     "metadata": {},
     "output_type": "display_data"
    }
   ],
   "source": [
    "model = mlp.choose_model(publish=True)"
   ]
  },
  {
   "cell_type": "markdown",
   "id": "53aa7102",
   "metadata": {
    "id": "53aa7102"
   },
   "source": [
    "### Choose folder to download the model"
   ]
  },
  {
   "cell_type": "code",
   "execution_count": 6,
   "id": "2456b57b",
   "metadata": {
    "id": "2456b57b"
   },
   "outputs": [
    {
     "data": {
      "application/vnd.jupyter.widget-view+json": {
       "model_id": "e1d5b96ec86a4a73ad9a93e9918748d7",
       "version_major": 2,
       "version_minor": 0
      },
      "text/plain": [
       "FileChooser(path='/Users/jurie.germishuys/Workspace/odf/koster-uw/kso/notebooks/publish', filename='', title='…"
      ]
     },
     "metadata": {},
     "output_type": "display_data"
    }
   ],
   "source": [
    "download_dir = kso_widgets.choose_folder(\".\", \"where to download the model\")"
   ]
  },
  {
   "cell_type": "markdown",
   "id": "cVtzA9X88UwR",
   "metadata": {
    "id": "cVtzA9X88UwR"
   },
   "source": [
    "### Download model"
   ]
  },
  {
   "cell_type": "code",
   "execution_count": 7,
   "id": "842d5de0",
   "metadata": {
    "id": "842d5de0"
   },
   "outputs": [
    {
     "name": "stderr",
     "output_type": "stream",
     "text": [
      "INFO:root:Local model successfully loaded.\n"
     ]
    }
   ],
   "source": [
    "artifact_dir = mlp.get_model(model.value, download_dir.selected)"
   ]
  },
  {
   "cell_type": "markdown",
   "id": "z9hZFcP28cu9",
   "metadata": {
    "id": "z9hZFcP28cu9"
   },
   "source": [
    "### Choose the footage to run the models into"
   ]
  },
  {
   "cell_type": "code",
   "execution_count": 8,
   "id": "9374fd88",
   "metadata": {
    "id": "9374fd88"
   },
   "outputs": [
    {
     "data": {
      "application/vnd.jupyter.widget-view+json": {
       "model_id": "820ef97445e64d28a19b5e972ad390d0",
       "version_major": 2,
       "version_minor": 0
      },
      "text/plain": [
       "RadioButtons(description='Choose footage source:', options=('Existing Footage', 'New Footage'), value='Existin…"
      ]
     },
     "metadata": {},
     "output_type": "display_data"
    }
   ],
   "source": [
    "pp.choose_footage_source()"
   ]
  },
  {
   "cell_type": "code",
   "execution_count": 9,
   "id": "180ddad3",
   "metadata": {
    "id": "180ddad3"
   },
   "outputs": [
    {
     "name": "stderr",
     "output_type": "stream",
     "text": [
      "INFO:root:Creating the available_movies_df attribute\n",
      "/Users/jurie.germishuys/Workspace/odf/koster-uw/kso/kso_utils/movie_utils.py:207: FutureWarning: the convert_dtype parameter is deprecated and will be removed in a future version.  Do ``ser.astype(object).apply()`` instead if you want ``convert_dtype=False``.\n",
      "  available_movies_df[\"filename_ext\"] = available_movies_df[\"fpath\"].apply(\n",
      "INFO:root:All 5 movies are mapped from the server\n",
      "INFO:root:Information of available movies has been retrieved\n"
     ]
    },
    {
     "data": {
      "application/vnd.jupyter.widget-view+json": {
       "model_id": "ef557f51996d4e57a498de1bff6a5fa7",
       "version_major": 2,
       "version_minor": 0
      },
      "text/plain": [
       "SelectMultiple(description='Select movie(s):', layout=Layout(width='50%'), options=('movie_1.mp4', 'movie_2.mp…"
      ]
     },
     "metadata": {},
     "output_type": "display_data"
    },
    {
     "name": "stderr",
     "output_type": "stream",
     "text": [
      "INFO:root:Returning the fpath https://www.wildlife.ai/wp-content/uploads/2022/06/movie_1.mp4\n"
     ]
    }
   ],
   "source": [
    "pp.choose_footage()"
   ]
  },
  {
   "cell_type": "code",
   "execution_count": 10,
   "id": "8e38d48c",
   "metadata": {
    "id": "8e38d48c"
   },
   "outputs": [
    {
     "name": "stderr",
     "output_type": "stream",
     "text": [
      "INFO:root:Returning the fpath https://www.wildlife.ai/wp-content/uploads/2022/06/movie_1.mp4\n"
     ]
    }
   ],
   "source": [
    "# Ensure the selected footage and paths are loaded to the system\n",
    "pp.check_selected_movies()"
   ]
  },
  {
   "cell_type": "markdown",
   "id": "zD5mhS2l8nuY",
   "metadata": {
    "id": "zD5mhS2l8nuY"
   },
   "source": [
    "### Choose folder to save the runs"
   ]
  },
  {
   "cell_type": "code",
   "execution_count": 11,
   "id": "75c4913f",
   "metadata": {
    "id": "75c4913f"
   },
   "outputs": [
    {
     "data": {
      "application/vnd.jupyter.widget-view+json": {
       "model_id": "257e058ef94d46d8adcd8b05c925d4ac",
       "version_major": 2,
       "version_minor": 0
      },
      "text/plain": [
       "FileChooser(path='/Users/jurie.germishuys/Workspace/odf/koster-uw/kso/notebooks/publish', filename='', title='…"
      ]
     },
     "metadata": {},
     "output_type": "display_data"
    }
   ],
   "source": [
    "# This should be left as default value in most cases.\n",
    "save_dir = kso_widgets.choose_folder(\".\", \"runs output\")"
   ]
  },
  {
   "cell_type": "markdown",
   "id": "TDH1TDtq8tS7",
   "metadata": {
    "id": "TDH1TDtq8tS7"
   },
   "source": [
    "### Choose a confidence threshold for evaluation"
   ]
  },
  {
   "cell_type": "code",
   "execution_count": 12,
   "id": "23b984ea",
   "metadata": {
    "id": "23b984ea"
   },
   "outputs": [
    {
     "data": {
      "application/vnd.jupyter.widget-view+json": {
       "model_id": "8f3c769bee75491199a5bfd7728697e3",
       "version_major": 2,
       "version_minor": 0
      },
      "text/plain": [
       "FloatSlider(value=0.5, continuous_update=False, description='Confidence threshold:', max=1.0, readout_format='…"
      ]
     },
     "metadata": {},
     "output_type": "display_data"
    }
   ],
   "source": [
    "conf_thres = kso_widgets.choose_conf()"
   ]
  },
  {
   "cell_type": "markdown",
   "id": "cE82MPDb8yVh",
   "metadata": {
    "id": "cE82MPDb8yVh"
   },
   "source": [
    "## Choose a suitable experiment name"
   ]
  },
  {
   "cell_type": "code",
   "execution_count": 13,
   "id": "1554f0ce",
   "metadata": {
    "id": "1554f0ce"
   },
   "outputs": [
    {
     "data": {
      "application/vnd.jupyter.widget-view+json": {
       "model_id": "2d7f5bde14064258af9ce5d9f6345115",
       "version_major": 2,
       "version_minor": 0
      },
      "text/plain": [
       "Text(value='exp_name', description='Experiment name:', placeholder='Choose an experiment name', style=TextStyl…"
      ]
     },
     "metadata": {},
     "output_type": "display_data"
    }
   ],
   "source": [
    "exp_name = kso_widgets.choose_experiment_name()"
   ]
  },
  {
   "cell_type": "markdown",
   "id": "LsuDEYSn83VJ",
   "metadata": {
    "id": "LsuDEYSn83VJ"
   },
   "source": [
    "### Run model over selected footage"
   ]
  },
  {
   "cell_type": "code",
   "execution_count": 15,
   "id": "ERKoACv1tvnj",
   "metadata": {
    "id": "ERKoACv1tvnj"
   },
   "outputs": [
    {
     "name": "stdout",
     "output_type": "stream",
     "text": [
      "Found https://www.wildlife.ai/wp-content/uploads/2022/06/movie_1.mp4 locally at movie_1.mp4\n"
     ]
    },
    {
     "name": "stderr",
     "output_type": "stream",
     "text": [
      "INFO:root:Processed item 1 / 253 in 1682.3630332946777 ms. Estimated remaining time: 423.96s. Grab a ☕\n",
      "INFO:root:Processed item 2 / 253 in 1605.093240737915 ms. Estimated remaining time: 403.96s. Grab a ☕\n",
      "INFO:root:Processed item 3 / 253 in 1597.7389812469482 ms. Estimated remaining time: 400.51s. Grab a ☕\n",
      "INFO:root:Processed item 4 / 253 in 1597.2929000854492 ms. Estimated remaining time: 398.77s. Grab a ☕\n",
      "INFO:root:Processed item 5 / 253 in 1594.6307182312012 ms. Estimated remaining time: 396.66s. Grab a ☕\n",
      "INFO:root:Processed item 6 / 253 in 1596.1918830871582 ms. Estimated remaining time: 395.32s. Grab a ☕\n",
      "INFO:root:Processed item 7 / 253 in 1600.5098819732666 ms. Estimated remaining time: 394.91s. Grab a ☕\n",
      "INFO:root:Processed item 8 / 253 in 1658.614158630371 ms. Estimated remaining time: 408.34s. Grab a ☕\n",
      "INFO:root:Processed item 9 / 253 in 1807.4214458465576 ms. Estimated remaining time: 442.17s. Grab a ☕\n",
      "INFO:root:Processed item 10 / 253 in 1716.970443725586 ms. Estimated remaining time: 418.71s. Grab a ☕\n",
      "INFO:root:Processed item 11 / 253 in 1606.3299179077148 ms. Estimated remaining time: 389.76s. Grab a ☕\n",
      "INFO:root:Processed item 12 / 253 in 1709.2692852020264 ms. Estimated remaining time: 413.04s. Grab a ☕\n",
      "INFO:root:Processed item 13 / 253 in 1762.049913406372 ms. Estimated remaining time: 423.98s. Grab a ☕\n",
      "INFO:root:Processed item 14 / 253 in 1785.2294445037842 ms. Estimated remaining time: 427.77s. Grab a ☕\n",
      "INFO:root:Processed item 15 / 253 in 1797.9817390441895 ms. Estimated remaining time: 429.09s. Grab a ☕\n",
      "INFO:root:Processed item 16 / 253 in 1888.2009983062744 ms. Estimated remaining time: 448.61s. Grab a ☕\n",
      "INFO:root:Processed item 17 / 253 in 1804.7106266021729 ms. Estimated remaining time: 427.31s. Grab a ☕\n",
      "INFO:root:Processed item 18 / 253 in 1846.398115158081 ms. Estimated remaining time: 434.99s. Grab a ☕\n",
      "INFO:root:Processed item 19 / 253 in 1814.3281936645508 ms. Estimated remaining time: 425.66s. Grab a ☕\n",
      "INFO:root:Processed item 20 / 253 in 1813.676118850708 ms. Estimated remaining time: 423.68s. Grab a ☕\n",
      "INFO:root:Processed item 21 / 253 in 1813.7166500091553 ms. Estimated remaining time: 421.85s. Grab a ☕\n",
      "INFO:root:Processed item 22 / 253 in 1810.194492340088 ms. Estimated remaining time: 419.23s. Grab a ☕\n",
      "INFO:root:Processed item 23 / 253 in 1814.7187232971191 ms. Estimated remaining time: 418.42s. Grab a ☕\n",
      "INFO:root:Processed item 24 / 253 in 1805.7050704956055 ms. Estimated remaining time: 414.62s. Grab a ☕\n",
      "INFO:root:Processed item 25 / 253 in 1811.9306564331055 ms. Estimated remaining time: 414.16s. Grab a ☕\n",
      "INFO:root:Processed item 26 / 253 in 1811.9113445281982 ms. Estimated remaining time: 412.64s. Grab a ☕\n",
      "INFO:root:Processed item 27 / 253 in 1810.7311725616455 ms. Estimated remaining time: 410.34s. Grab a ☕\n",
      "INFO:root:Processed item 28 / 253 in 1810.1935386657715 ms. Estimated remaining time: 408.33s. Grab a ☕\n",
      "INFO:root:Processed item 29 / 253 in 1817.2297477722168 ms. Estimated remaining time: 408.12s. Grab a ☕\n",
      "INFO:root:Processed item 30 / 253 in 1815.2315616607666 ms. Estimated remaining time: 405.84s. Grab a ☕\n",
      "INFO:root:Processed item 31 / 253 in 1827.5299072265625 ms. Estimated remaining time: 406.76s. Grab a ☕\n",
      "INFO:root:Processed item 32 / 253 in 1812.436580657959 ms. Estimated remaining time: 401.83s. Grab a ☕\n",
      "INFO:root:Processed item 33 / 253 in 1816.0369396209717 ms. Estimated remaining time: 400.65s. Grab a ☕\n",
      "INFO:root:Processed item 34 / 253 in 1813.4887218475342 ms. Estimated remaining time: 398.19s. Grab a ☕\n",
      "INFO:root:Processed item 35 / 253 in 1803.663730621338 ms. Estimated remaining time: 394.23s. Grab a ☕\n",
      "INFO:root:Processed item 36 / 253 in 1812.4828338623047 ms. Estimated remaining time: 394.36s. Grab a ☕\n",
      "INFO:root:Processed item 37 / 253 in 1812.2620582580566 ms. Estimated remaining time: 392.47s. Grab a ☕\n",
      "INFO:root:Processed item 38 / 253 in 1816.4901733398438 ms. Estimated remaining time: 391.56s. Grab a ☕\n",
      "INFO:root:Processed item 39 / 253 in 1823.6417770385742 ms. Estimated remaining time: 391.47s. Grab a ☕\n",
      "INFO:root:Processed item 40 / 253 in 1811.48099899292 ms. Estimated remaining time: 386.84s. Grab a ☕\n",
      "INFO:root:Processed item 41 / 253 in 1811.7716312408447 ms. Estimated remaining time: 385.14s. Grab a ☕\n",
      "INFO:root:Processed item 42 / 253 in 1823.5173225402832 ms. Estimated remaining time: 385.77s. Grab a ☕\n",
      "INFO:root:Processed item 43 / 253 in 1903.5205841064453 ms. Estimated remaining time: 400.71s. Grab a ☕\n",
      "INFO:root:Processed item 44 / 253 in 1821.3160037994385 ms. Estimated remaining time: 382.39s. Grab a ☕\n",
      "INFO:root:Processed item 45 / 253 in 2046.382188796997 ms. Estimated remaining time: 427.41s. Grab a ☕\n",
      "INFO:root:Processed item 46 / 253 in 2209.3613147735596 ms. Estimated remaining time: 458.53s. Grab a ☕\n",
      "INFO:root:Processed item 47 / 253 in 1861.3269329071045 ms. Estimated remaining time: 384.46s. Grab a ☕\n",
      "INFO:root:Processed item 48 / 253 in 1933.016061782837 ms. Estimated remaining time: 397.41s. Grab a ☕\n",
      "INFO:root:Processed item 49 / 253 in 1824.697732925415 ms. Estimated remaining time: 373.2s. Grab a ☕\n",
      "INFO:root:Processed item 50 / 253 in 1827.7573585510254 ms. Estimated remaining time: 372.0s. Grab a ☕\n",
      "INFO:root:Processed item 51 / 253 in 1828.4156322479248 ms. Estimated remaining time: 370.3s. Grab a ☕\n",
      "INFO:root:Processed item 52 / 253 in 1855.2532196044922 ms. Estimated remaining time: 373.93s. Grab a ☕\n",
      "INFO:root:Processed item 53 / 253 in 1838.7715816497803 ms. Estimated remaining time: 368.71s. Grab a ☕\n",
      "INFO:root:Processed item 54 / 253 in 1828.148365020752 ms. Estimated remaining time: 364.77s. Grab a ☕\n",
      "INFO:root:Processed item 55 / 253 in 1831.1591148376465 ms. Estimated remaining time: 363.53s. Grab a ☕\n",
      "INFO:root:Processed item 56 / 253 in 1851.5300750732422 ms. Estimated remaining time: 365.84s. Grab a ☕\n",
      "INFO:root:Processed item 57 / 253 in 1833.2772254943848 ms. Estimated remaining time: 360.33s. Grab a ☕\n",
      "INFO:root:Processed item 58 / 253 in 1832.176923751831 ms. Estimated remaining time: 358.39s. Grab a ☕\n",
      "INFO:root:Processed item 59 / 253 in 1820.9350109100342 ms. Estimated remaining time: 354.27s. Grab a ☕\n",
      "INFO:root:Processed item 60 / 253 in 1851.5160083770752 ms. Estimated remaining time: 358.35s. Grab a ☕\n",
      "INFO:root:Processed item 61 / 253 in 1835.2291584014893 ms. Estimated remaining time: 353.32s. Grab a ☕\n",
      "INFO:root:Processed item 62 / 253 in 1831.8819999694824 ms. Estimated remaining time: 350.81s. Grab a ☕\n",
      "INFO:root:Processed item 63 / 253 in 1824.280023574829 ms. Estimated remaining time: 347.51s. Grab a ☕\n",
      "INFO:root:Processed item 64 / 253 in 1847.916841506958 ms. Estimated remaining time: 350.21s. Grab a ☕\n",
      "INFO:root:Processed item 65 / 253 in 1829.5941352844238 ms. Estimated remaining time: 344.86s. Grab a ☕\n",
      "INFO:root:Processed item 66 / 253 in 1824.8050212860107 ms. Estimated remaining time: 342.18s. Grab a ☕\n",
      "INFO:root:Processed item 67 / 253 in 1824.7840404510498 ms. Estimated remaining time: 340.49s. Grab a ☕\n",
      "INFO:root:Processed item 68 / 253 in 1840.2817249298096 ms. Estimated remaining time: 341.43s. Grab a ☕\n",
      "INFO:root:Processed item 69 / 253 in 1826.7309665679932 ms. Estimated remaining time: 337.01s. Grab a ☕\n",
      "INFO:root:Processed item 70 / 253 in 1824.8891830444336 ms. Estimated remaining time: 334.87s. Grab a ☕\n",
      "INFO:root:Processed item 71 / 253 in 1824.2788314819336 ms. Estimated remaining time: 332.91s. Grab a ☕\n",
      "INFO:root:Processed item 72 / 253 in 1855.7829856872559 ms. Estimated remaining time: 336.86s. Grab a ☕\n",
      "INFO:root:Processed item 73 / 253 in 1829.787015914917 ms. Estimated remaining time: 330.2s. Grab a ☕\n",
      "INFO:root:Processed item 74 / 253 in 1835.2408409118652 ms. Estimated remaining time: 329.37s. Grab a ☕\n",
      "INFO:root:Processed item 75 / 253 in 1834.9847793579102 ms. Estimated remaining time: 327.49s. Grab a ☕\n",
      "INFO:root:Processed item 76 / 253 in 1839.4131660461426 ms. Estimated remaining time: 326.46s. Grab a ☕\n",
      "INFO:root:Processed item 77 / 253 in 1828.0086517333984 ms. Estimated remaining time: 322.57s. Grab a ☕\n",
      "INFO:root:Processed item 78 / 253 in 1821.638584136963 ms. Estimated remaining time: 319.65s. Grab a ☕\n",
      "INFO:root:Processed item 79 / 253 in 1817.481517791748 ms. Estimated remaining time: 317.09s. Grab a ☕\n",
      "INFO:root:Processed item 80 / 253 in 1844.2208766937256 ms. Estimated remaining time: 319.97s. Grab a ☕\n",
      "INFO:root:Processed item 81 / 253 in 1831.8977355957031 ms. Estimated remaining time: 315.97s. Grab a ☕\n",
      "INFO:root:Processed item 82 / 253 in 1823.0278491973877 ms. Estimated remaining time: 312.53s. Grab a ☕\n",
      "INFO:root:Processed item 83 / 253 in 1925.2939224243164 ms. Estimated remaining time: 328.17s. Grab a ☕\n",
      "INFO:root:Processed item 84 / 253 in 1854.1748523712158 ms. Estimated remaining time: 314.39s. Grab a ☕\n",
      "INFO:root:Processed item 85 / 253 in 1830.54518699646 ms. Estimated remaining time: 308.32s. Grab a ☕\n",
      "INFO:root:Processed item 86 / 253 in 1824.366807937622 ms. Estimated remaining time: 305.46s. Grab a ☕\n",
      "INFO:root:Processed item 87 / 253 in 1825.9098529815674 ms. Estimated remaining time: 303.9s. Grab a ☕\n",
      "INFO:root:Processed item 88 / 253 in 1853.2023429870605 ms. Estimated remaining time: 306.62s. Grab a ☕\n",
      "INFO:root:Processed item 89 / 253 in 1824.678659439087 ms. Estimated remaining time: 300.1s. Grab a ☕\n",
      "INFO:root:Processed item 90 / 253 in 1822.174072265625 ms. Estimated remaining time: 297.77s. Grab a ☕\n",
      "INFO:root:Processed item 91 / 253 in 1826.9128799438477 ms. Estimated remaining time: 296.76s. Grab a ☕\n",
      "INFO:root:Processed item 92 / 253 in 1854.9096584320068 ms. Estimated remaining time: 299.62s. Grab a ☕\n",
      "INFO:root:Processed item 93 / 253 in 1833.7209224700928 ms. Estimated remaining time: 294.15s. Grab a ☕\n",
      "INFO:root:Processed item 94 / 253 in 1824.4121074676514 ms. Estimated remaining time: 290.83s. Grab a ☕\n",
      "INFO:root:Processed item 95 / 253 in 1827.0397186279297 ms. Estimated remaining time: 289.41s. Grab a ☕\n",
      "INFO:root:Processed item 96 / 253 in 1860.219955444336 ms. Estimated remaining time: 292.9s. Grab a ☕\n",
      "INFO:root:Processed item 97 / 253 in 1832.1566581726074 ms. Estimated remaining time: 286.56s. Grab a ☕\n",
      "INFO:root:Processed item 98 / 253 in 1816.418170928955 ms. Estimated remaining time: 282.28s. Grab a ☕\n",
      "INFO:root:Processed item 99 / 253 in 1825.331687927246 ms. Estimated remaining time: 281.88s. Grab a ☕\n",
      "INFO:root:Processed item 100 / 253 in 1880.2931308746338 ms. Estimated remaining time: 288.52s. Grab a ☕\n",
      "INFO:root:Processed item 101 / 253 in 1858.823299407959 ms. Estimated remaining time: 283.26s. Grab a ☕\n",
      "INFO:root:Processed item 102 / 253 in 1835.904836654663 ms. Estimated remaining time: 278.0s. Grab a ☕\n",
      "INFO:root:Processed item 103 / 253 in 1835.508108139038 ms. Estimated remaining time: 276.19s. Grab a ☕\n",
      "INFO:root:Processed item 104 / 253 in 1856.5502166748047 ms. Estimated remaining time: 277.43s. Grab a ☕\n",
      "INFO:root:Processed item 105 / 253 in 1831.6588401794434 ms. Estimated remaining time: 271.76s. Grab a ☕\n",
      "INFO:root:Processed item 106 / 253 in 1823.9130973815918 ms. Estimated remaining time: 268.8s. Grab a ☕\n",
      "INFO:root:Processed item 107 / 253 in 1835.6850147247314 ms. Estimated remaining time: 268.71s. Grab a ☕\n",
      "INFO:root:Processed item 108 / 253 in 1856.5101623535156 ms. Estimated remaining time: 269.97s. Grab a ☕\n",
      "INFO:root:Processed item 109 / 253 in 1829.2264938354492 ms. Estimated remaining time: 264.09s. Grab a ☕\n",
      "INFO:root:Processed item 110 / 253 in 1819.1611766815186 ms. Estimated remaining time: 260.85s. Grab a ☕\n",
      "INFO:root:Processed item 111 / 253 in 1829.0770053863525 ms. Estimated remaining time: 260.48s. Grab a ☕\n",
      "INFO:root:Processed item 112 / 253 in 1855.1080226898193 ms. Estimated remaining time: 262.32s. Grab a ☕\n",
      "INFO:root:Processed item 113 / 253 in 1876.4901161193848 ms. Estimated remaining time: 263.36s. Grab a ☕\n",
      "INFO:root:Processed item 114 / 253 in 1830.9423923492432 ms. Estimated remaining time: 255.31s. Grab a ☕\n",
      "INFO:root:Processed item 115 / 253 in 1833.8658809661865 ms. Estimated remaining time: 253.76s. Grab a ☕\n",
      "INFO:root:Processed item 116 / 253 in 1942.3527717590332 ms. Estimated remaining time: 266.91s. Grab a ☕\n",
      "INFO:root:Processed item 117 / 253 in 1828.4058570861816 ms. Estimated remaining time: 249.34s. Grab a ☕\n",
      "INFO:root:Processed item 118 / 253 in 1832.7357769012451 ms. Estimated remaining time: 248.21s. Grab a ☕\n",
      "INFO:root:Processed item 119 / 253 in 1826.4620304107666 ms. Estimated remaining time: 245.38s. Grab a ☕\n",
      "INFO:root:Processed item 120 / 253 in 1845.505952835083 ms. Estimated remaining time: 246.21s. Grab a ☕\n",
      "INFO:root:Processed item 121 / 253 in 1828.2127380371094 ms. Estimated remaining time: 242.0s. Grab a ☕\n",
      "INFO:root:Processed item 122 / 253 in 1825.577735900879 ms. Estimated remaining time: 239.78s. Grab a ☕\n",
      "INFO:root:Processed item 123 / 253 in 1827.3308277130127 ms. Estimated remaining time: 238.15s. Grab a ☕\n",
      "INFO:root:Processed item 124 / 253 in 1856.3799858093262 ms. Estimated remaining time: 240.2s. Grab a ☕\n",
      "INFO:root:Processed item 125 / 253 in 1832.468032836914 ms. Estimated remaining time: 235.15s. Grab a ☕\n",
      "INFO:root:Processed item 126 / 253 in 1825.7956504821777 ms. Estimated remaining time: 232.57s. Grab a ☕\n",
      "INFO:root:Processed item 127 / 253 in 1828.2747268676758 ms. Estimated remaining time: 230.94s. Grab a ☕\n",
      "INFO:root:Processed item 128 / 253 in 1866.5766716003418 ms. Estimated remaining time: 234.19s. Grab a ☕\n",
      "INFO:root:Processed item 129 / 253 in 1825.6537914276123 ms. Estimated remaining time: 227.0s. Grab a ☕\n",
      "INFO:root:Processed item 130 / 253 in 1824.8000144958496 ms. Estimated remaining time: 225.03s. Grab a ☕\n",
      "INFO:root:Processed item 131 / 253 in 1824.2931365966797 ms. Estimated remaining time: 223.13s. Grab a ☕\n",
      "INFO:root:Processed item 132 / 253 in 1859.1532707214355 ms. Estimated remaining time: 225.55s. Grab a ☕\n",
      "INFO:root:Processed item 133 / 253 in 1831.3267230987549 ms. Estimated remaining time: 220.32s. Grab a ☕\n",
      "INFO:root:Processed item 134 / 253 in 1825.2544403076172 ms. Estimated remaining time: 218.03s. Grab a ☕\n",
      "INFO:root:Processed item 135 / 253 in 2067.539930343628 ms. Estimated remaining time: 244.97s. Grab a ☕\n",
      "INFO:root:Processed item 136 / 253 in 2240.054130554199 ms. Estimated remaining time: 262.96s. Grab a ☕\n",
      "INFO:root:Processed item 137 / 253 in 1855.0641536712646 ms. Estimated remaining time: 215.86s. Grab a ☕\n",
      "INFO:root:Processed item 138 / 253 in 1826.068639755249 ms. Estimated remaining time: 210.58s. Grab a ☕\n",
      "INFO:root:Processed item 139 / 253 in 1825.7133960723877 ms. Estimated remaining time: 208.69s. Grab a ☕\n",
      "INFO:root:Processed item 140 / 253 in 1864.1903400421143 ms. Estimated remaining time: 211.25s. Grab a ☕\n",
      "INFO:root:Processed item 141 / 253 in 1830.1725387573242 ms. Estimated remaining time: 205.5s. Grab a ☕\n",
      "INFO:root:Processed item 142 / 253 in 1827.563762664795 ms. Estimated remaining time: 203.4s. Grab a ☕\n",
      "INFO:root:Processed item 143 / 253 in 1822.3750591278076 ms. Estimated remaining time: 201.01s. Grab a ☕\n",
      "INFO:root:Processed item 144 / 253 in 1847.808837890625 ms. Estimated remaining time: 202.02s. Grab a ☕\n",
      "INFO:root:Processed item 145 / 253 in 1830.1234245300293 ms. Estimated remaining time: 198.16s. Grab a ☕\n",
      "INFO:root:Processed item 146 / 253 in 1828.4578323364258 ms. Estimated remaining time: 196.18s. Grab a ☕\n",
      "INFO:root:Processed item 147 / 253 in 1825.0360488891602 ms. Estimated remaining time: 193.96s. Grab a ☕\n",
      "INFO:root:Processed item 148 / 253 in 1968.8689708709717 ms. Estimated remaining time: 207.25s. Grab a ☕\n",
      "INFO:root:Processed item 149 / 253 in 1835.2279663085938 ms. Estimated remaining time: 191.34s. Grab a ☕\n",
      "INFO:root:Processed item 150 / 253 in 1824.3491649627686 ms. Estimated remaining time: 188.4s. Grab a ☕\n",
      "INFO:root:Processed item 151 / 253 in 1844.1133499145508 ms. Estimated remaining time: 188.65s. Grab a ☕\n",
      "INFO:root:Processed item 152 / 253 in 1844.8472023010254 ms. Estimated remaining time: 186.85s. Grab a ☕\n",
      "INFO:root:Processed item 153 / 253 in 1833.7123394012451 ms. Estimated remaining time: 183.85s. Grab a ☕\n",
      "INFO:root:Processed item 154 / 253 in 1822.4592208862305 ms. Estimated remaining time: 180.93s. Grab a ☕\n",
      "INFO:root:Processed item 155 / 253 in 1820.0252056121826 ms. Estimated remaining time: 178.85s. Grab a ☕\n",
      "INFO:root:Processed item 156 / 253 in 1858.931303024292 ms. Estimated remaining time: 180.8s. Grab a ☕\n",
      "INFO:root:Processed item 157 / 253 in 1830.7900428771973 ms. Estimated remaining time: 176.25s. Grab a ☕\n",
      "INFO:root:Processed item 158 / 253 in 1827.0084857940674 ms. Estimated remaining time: 174.03s. Grab a ☕\n",
      "INFO:root:Processed item 159 / 253 in 1822.6549625396729 ms. Estimated remaining time: 171.79s. Grab a ☕\n",
      "INFO:root:Processed item 160 / 253 in 1861.821174621582 ms. Estimated remaining time: 173.66s. Grab a ☕\n",
      "INFO:root:Processed item 161 / 253 in 1843.2519435882568 ms. Estimated remaining time: 170.01s. Grab a ☕\n",
      "INFO:root:Processed item 162 / 253 in 1828.3824920654297 ms. Estimated remaining time: 166.99s. Grab a ☕\n",
      "INFO:root:Processed item 163 / 253 in 1825.911045074463 ms. Estimated remaining time: 164.77s. Grab a ☕\n",
      "INFO:root:Processed item 164 / 253 in 1846.8647003173828 ms. Estimated remaining time: 164.87s. Grab a ☕\n",
      "INFO:root:Processed item 165 / 253 in 1832.2935104370117 ms. Estimated remaining time: 161.7s. Grab a ☕\n",
      "INFO:root:Processed item 166 / 253 in 1819.511890411377 ms. Estimated remaining time: 158.72s. Grab a ☕\n",
      "INFO:root:Processed item 167 / 253 in 1826.352596282959 ms. Estimated remaining time: 157.47s. Grab a ☕\n",
      "INFO:root:Processed item 168 / 253 in 1858.8988780975342 ms. Estimated remaining time: 158.5s. Grab a ☕\n",
      "INFO:root:Processed item 169 / 253 in 1832.8030109405518 ms. Estimated remaining time: 154.43s. Grab a ☕\n",
      "INFO:root:Processed item 170 / 253 in 1829.272985458374 ms. Estimated remaining time: 152.25s. Grab a ☕\n",
      "INFO:root:Processed item 171 / 253 in 1820.5819129943848 ms. Estimated remaining time: 149.7s. Grab a ☕\n",
      "INFO:root:Processed item 172 / 253 in 1869.6520328521729 ms. Estimated remaining time: 151.89s. Grab a ☕\n",
      "INFO:root:Processed item 173 / 253 in 1833.528757095337 ms. Estimated remaining time: 147.05s. Grab a ☕\n",
      "INFO:root:Processed item 174 / 253 in 1820.7776546478271 ms. Estimated remaining time: 144.24s. Grab a ☕\n",
      "INFO:root:Processed item 175 / 253 in 1824.9142169952393 ms. Estimated remaining time: 142.72s. Grab a ☕\n",
      "INFO:root:Processed item 176 / 253 in 1848.9272594451904 ms. Estimated remaining time: 142.78s. Grab a ☕\n",
      "INFO:root:Processed item 177 / 253 in 1830.031156539917 ms. Estimated remaining time: 139.44s. Grab a ☕\n",
      "INFO:root:Processed item 178 / 253 in 1826.3611793518066 ms. Estimated remaining time: 137.34s. Grab a ☕\n",
      "INFO:root:Processed item 179 / 253 in 1825.556993484497 ms. Estimated remaining time: 135.44s. Grab a ☕\n",
      "INFO:root:Processed item 180 / 253 in 1935.413122177124 ms. Estimated remaining time: 141.64s. Grab a ☕\n",
      "INFO:root:Processed item 181 / 253 in 1846.2016582489014 ms. Estimated remaining time: 133.29s. Grab a ☕\n",
      "INFO:root:Processed item 182 / 253 in 1825.8812427520752 ms. Estimated remaining time: 129.97s. Grab a ☕\n",
      "INFO:root:Processed item 183 / 253 in 1827.519178390503 ms. Estimated remaining time: 128.27s. Grab a ☕\n",
      "INFO:root:Processed item 184 / 253 in 1851.9604206085205 ms. Estimated remaining time: 128.15s. Grab a ☕\n",
      "INFO:root:Processed item 185 / 253 in 1822.352409362793 ms. Estimated remaining time: 124.25s. Grab a ☕\n",
      "INFO:root:Processed item 186 / 253 in 1827.498197555542 ms. Estimated remaining time: 122.76s. Grab a ☕\n",
      "INFO:root:Processed item 187 / 253 in 1823.2808113098145 ms. Estimated remaining time: 120.65s. Grab a ☕\n",
      "INFO:root:Processed item 188 / 253 in 1853.729486465454 ms. Estimated remaining time: 120.83s. Grab a ☕\n",
      "INFO:root:Processed item 189 / 253 in 1832.6432704925537 ms. Estimated remaining time: 117.6s. Grab a ☕\n",
      "INFO:root:Processed item 190 / 253 in 1822.1080303192139 ms. Estimated remaining time: 115.11s. Grab a ☕\n",
      "INFO:root:Processed item 191 / 253 in 1828.1092643737793 ms. Estimated remaining time: 113.63s. Grab a ☕\n",
      "INFO:root:Processed item 192 / 253 in 1857.4035167694092 ms. Estimated remaining time: 113.63s. Grab a ☕\n",
      "INFO:root:Processed item 193 / 253 in 1824.3980407714844 ms. Estimated remaining time: 109.75s. Grab a ☕\n",
      "INFO:root:Processed item 194 / 253 in 1824.8374462127686 ms. Estimated remaining time: 107.97s. Grab a ☕\n",
      "INFO:root:Processed item 195 / 253 in 1826.6723155975342 ms. Estimated remaining time: 106.21s. Grab a ☕\n",
      "INFO:root:Processed item 196 / 253 in 1866.8687343597412 ms. Estimated remaining time: 106.73s. Grab a ☕\n",
      "INFO:root:Processed item 197 / 253 in 1843.0509567260742 ms. Estimated remaining time: 103.48s. Grab a ☕\n",
      "INFO:root:Processed item 198 / 253 in 1830.3561210632324 ms. Estimated remaining time: 100.93s. Grab a ☕\n",
      "INFO:root:Processed item 199 / 253 in 1828.7179470062256 ms. Estimated remaining time: 99.0s. Grab a ☕\n",
      "INFO:root:Processed item 200 / 253 in 1849.9102592468262 ms. Estimated remaining time: 98.36s. Grab a ☕\n",
      "INFO:root:Processed item 201 / 253 in 1831.519365310669 ms. Estimated remaining time: 95.48s. Grab a ☕\n",
      "INFO:root:Processed item 202 / 253 in 1826.5514373779297 ms. Estimated remaining time: 93.41s. Grab a ☕\n",
      "INFO:root:Processed item 203 / 253 in 1833.8277339935303 ms. Estimated remaining time: 91.95s. Grab a ☕\n",
      "INFO:root:Processed item 204 / 253 in 1840.956449508667 ms. Estimated remaining time: 90.5s. Grab a ☕\n",
      "INFO:root:Processed item 205 / 253 in 1840.1243686676025 ms. Estimated remaining time: 88.59s. Grab a ☕\n",
      "INFO:root:Processed item 206 / 253 in 1829.3440341949463 ms. Estimated remaining time: 86.25s. Grab a ☕\n",
      "INFO:root:Processed item 207 / 253 in 1847.3877906799316 ms. Estimated remaining time: 85.2s. Grab a ☕\n",
      "INFO:root:Processed item 208 / 253 in 1828.3438682556152 ms. Estimated remaining time: 82.49s. Grab a ☕\n",
      "INFO:root:Processed item 209 / 253 in 1820.8491802215576 ms. Estimated remaining time: 80.33s. Grab a ☕\n",
      "INFO:root:Processed item 210 / 253 in 1905.2224159240723 ms. Estimated remaining time: 82.24s. Grab a ☕\n",
      "INFO:root:Processed item 211 / 253 in 2128.406047821045 ms. Estimated remaining time: 89.71s. Grab a ☕\n",
      "INFO:root:Processed item 212 / 253 in 1935.4760646820068 ms. Estimated remaining time: 79.63s. Grab a ☕\n",
      "INFO:root:Processed item 213 / 253 in 1829.97465133667 ms. Estimated remaining time: 73.4s. Grab a ☕\n",
      "INFO:root:Processed item 214 / 253 in 1826.9011974334717 ms. Estimated remaining time: 71.44s. Grab a ☕\n",
      "INFO:root:Processed item 215 / 253 in 1857.734203338623 ms. Estimated remaining time: 70.81s. Grab a ☕\n",
      "INFO:root:Processed item 216 / 253 in 1831.5999507904053 ms. Estimated remaining time: 67.95s. Grab a ☕\n",
      "INFO:root:Processed item 217 / 253 in 1818.2172775268555 ms. Estimated remaining time: 65.63s. Grab a ☕\n",
      "INFO:root:Processed item 218 / 253 in 1823.46773147583 ms. Estimated remaining time: 63.98s. Grab a ☕\n",
      "INFO:root:Processed item 219 / 253 in 1855.557918548584 ms. Estimated remaining time: 63.28s. Grab a ☕\n",
      "INFO:root:Processed item 220 / 253 in 1836.5287780761719 ms. Estimated remaining time: 60.76s. Grab a ☕\n",
      "INFO:root:Processed item 221 / 253 in 1859.7478866577148 ms. Estimated remaining time: 59.66s. Almost there! ⏳\n",
      "INFO:root:Processed item 222 / 253 in 1832.974910736084 ms. Estimated remaining time: 56.99s. Almost there! ⏳\n",
      "INFO:root:Processed item 223 / 253 in 1854.7117710113525 ms. Estimated remaining time: 55.81s. Almost there! ⏳\n",
      "INFO:root:Processed item 224 / 253 in 1833.3377838134766 ms. Estimated remaining time: 53.32s. Almost there! ⏳\n",
      "INFO:root:Processed item 225 / 253 in 1817.5382614135742 ms. Estimated remaining time: 51.05s. Almost there! ⏳\n",
      "INFO:root:Processed item 226 / 253 in 1847.7065563201904 ms. Estimated remaining time: 50.01s. Almost there! ⏳\n",
      "INFO:root:Processed item 227 / 253 in 1859.490156173706 ms. Estimated remaining time: 48.48s. Almost there! ⏳\n",
      "INFO:root:Processed item 228 / 253 in 1836.1525535583496 ms. Estimated remaining time: 46.05s. Almost there! ⏳\n",
      "INFO:root:Processed item 229 / 253 in 1931.2870502471924 ms. Estimated remaining time: 46.47s. Almost there! ⏳\n",
      "INFO:root:Processed item 230 / 253 in 1831.7241668701172 ms. Estimated remaining time: 42.24s. Almost there! ⏳\n",
      "INFO:root:Processed item 231 / 253 in 1851.6781330108643 ms. Estimated remaining time: 40.85s. Almost there! ⏳\n",
      "INFO:root:Processed item 232 / 253 in 1853.5683155059814 ms. Estimated remaining time: 39.03s. Almost there! ⏳\n",
      "INFO:root:Processed item 233 / 253 in 1825.432538986206 ms. Estimated remaining time: 36.62s. Almost there! ⏳\n",
      "INFO:root:Processed item 234 / 253 in 1826.7674446105957 ms. Estimated remaining time: 34.8s. Almost there! ⏳\n",
      "INFO:root:Processed item 235 / 253 in 1867.1200275421143 ms. Estimated remaining time: 33.71s. Almost there! ⏳\n",
      "INFO:root:Processed item 236 / 253 in 1830.6713104248047 ms. Estimated remaining time: 31.21s. Almost there! ⏳\n",
      "INFO:root:Processed item 237 / 253 in 1830.6117057800293 ms. Estimated remaining time: 29.42s. Almost there! ⏳\n",
      "INFO:root:Processed item 238 / 253 in 2096.392869949341 ms. Estimated remaining time: 31.54s. Almost there! ⏳\n",
      "INFO:root:Processed item 239 / 253 in 1887.4280452728271 ms. Estimated remaining time: 26.53s. Almost there! ⏳\n",
      "INFO:root:Processed item 240 / 253 in 1828.4046649932861 ms. Estimated remaining time: 23.83s. Almost there! ⏳\n",
      "INFO:root:Processed item 241 / 253 in 1821.8083381652832 ms. Estimated remaining time: 21.93s. Almost there! ⏳\n",
      "INFO:root:Processed item 242 / 253 in 1821.1250305175781 ms. Estimated remaining time: 20.09s. Almost there! ⏳\n",
      "INFO:root:Processed item 243 / 253 in 1857.0313453674316 ms. Estimated remaining time: 18.62s. Almost there! ⏳\n",
      "INFO:root:Processed item 244 / 253 in 1832.1022987365723 ms. Estimated remaining time: 16.53s. Almost there! ⏳\n",
      "INFO:root:Processed item 245 / 253 in 1826.2109756469727 ms. Estimated remaining time: 14.66s. Almost there! ⏳\n",
      "INFO:root:Processed item 246 / 253 in 1823.0738639831543 ms. Estimated remaining time: 12.8s. Almost there! ⏳\n",
      "INFO:root:Processed item 247 / 253 in 1850.1477241516113 ms. Estimated remaining time: 11.13s. Almost there! ⏳\n",
      "INFO:root:Processed item 248 / 253 in 1830.1992416381836 ms. Estimated remaining time: 9.17s. Almost there! ⏳\n",
      "INFO:root:Processed item 249 / 253 in 1813.7197494506836 ms. Estimated remaining time: 7.28s. Almost there! ⏳\n",
      "INFO:root:Processed item 250 / 253 in 1823.2109546661377 ms. Estimated remaining time: 5.49s. Almost there! ⏳\n",
      "INFO:root:Processed item 251 / 253 in 1855.9975624084473 ms. Estimated remaining time: 3.72s. Almost there! ⏳\n",
      "INFO:root:Processed item 252 / 253 in 1826.3332843780518 ms. Estimated remaining time: 1.83s. Almost there! ⏳\n",
      "INFO:root:Processed item 253 / 253 in 1824.7520923614502 ms. Estimated remaining time: 0.0s. Almost there! ⏳\n"
     ]
    },
    {
     "name": "stdout",
     "output_type": "stream",
     "text": [
      "Results saved to \u001b[1m/Users/jurie.germishuys/Workspace/odf/koster-uw/kso/notebooks/publish/exp_name15\u001b[0m\n",
      "7 labels saved to /Users/jurie.germishuys/Workspace/odf/koster-uw/kso/notebooks/publish/exp_name15/labels\n"
     ]
    },
    {
     "name": "stderr",
     "output_type": "stream",
     "text": [
      "INFO:root:Prediction completed successfully! ✅\n",
      "/Users/jurie.germishuys/Workspace/odf/koster-uw/kso/kso_utils/yolo_utils.py:1235: FutureWarning: the convert_dtype parameter is deprecated and will be removed in a future version.  Do ``ser.astype(object).apply()`` instead if you want ``convert_dtype=False``.\n",
      "  detect_df[\"movie_filename\"] = detect_df[\"movie_filename\"].apply(\n",
      "INFO:root:Report created at /Users/jurie.germishuys/Workspace/odf/koster-uw/kso/notebooks/publish/exp_name15/annotations.csv\n"
     ]
    }
   ],
   "source": [
    "# Get the paths of the movies selected\n",
    "mlp.detect_yolo(\n",
    "    save_dir=save_dir.selected,\n",
    "    conf_thres=conf_thres.value,\n",
    "    artifact_dir=artifact_dir,\n",
    "    save_output=True,\n",
    "    project=mlp.project_name,\n",
    "    name=exp_name.value,\n",
    "    model=model.value,\n",
    "    out_format=\"yolo\",\n",
    "    source=(\n",
    "        pp.selected_movies_paths\n",
    "        if isinstance(pp.selected_movies_paths, str)\n",
    "        else pp.selected_movies_paths[0]\n",
    "    ),\n",
    ")"
   ]
  },
  {
   "cell_type": "markdown",
   "id": "0ppmp2oL9jTY",
   "metadata": {
    "id": "0ppmp2oL9jTY"
   },
   "source": [
    "### View the processed footage"
   ]
  },
  {
   "cell_type": "code",
   "execution_count": 16,
   "id": "caec3f56",
   "metadata": {
    "id": "caec3f56"
   },
   "outputs": [
    {
     "data": {
      "application/vnd.jupyter.widget-view+json": {
       "model_id": "58fc0319ced740008696be2e3a95ee7f",
       "version_major": 2,
       "version_minor": 0
      },
      "text/plain": [
       "Dropdown(description='Select viewer:', options=('image', 'video'), value='image')"
      ]
     },
     "metadata": {},
     "output_type": "display_data"
    },
    {
     "data": {
      "application/vnd.jupyter.widget-view+json": {
       "model_id": "4639b2619e4e41d5a5f6ad7d2054fe4d",
       "version_major": 2,
       "version_minor": 0
      },
      "text/plain": [
       "Output()"
      ]
     },
     "metadata": {},
     "output_type": "display_data"
    }
   ],
   "source": [
    "kso_widgets.select_viewer()"
   ]
  },
  {
   "cell_type": "markdown",
   "id": "22ff4bf2",
   "metadata": {
    "id": "22ff4bf2"
   },
   "source": [
    "### Process the detections\n",
    "Add the metadata associated with the species identified and the movies"
   ]
  },
  {
   "cell_type": "code",
   "execution_count": 15,
   "id": "05c7f637",
   "metadata": {},
   "outputs": [],
   "source": [
    "mlp.eval_dir = (\n",
    "    \"/Users/jurie.germishuys/Workspace/odf/koster-uw/kso/notebooks/publish/exp_name7\"\n",
    ")"
   ]
  },
  {
   "cell_type": "code",
   "execution_count": 27,
   "id": "281d1588",
   "metadata": {
    "id": "281d1588"
   },
   "outputs": [
    {
     "name": "stderr",
     "output_type": "stream",
     "text": [
      "ERROR:root:Registry invalid.\n",
      "INFO:root:Detections processed. The dataframe has a total of 1 rows and 31 columns\n"
     ]
    },
    {
     "name": "stdout",
     "output_type": "stream",
     "text": [
      "                                            filename  class_id  frame_no  \\\n",
      "0  /Users/jurie.germishuys/Workspace/odf/koster-u...         0         8   \n",
      "\n",
      "          x         y         w         h      conf  \n",
      "0  0.042244  0.685058  0.082922  0.104577  0.151638  \n"
     ]
    }
   ],
   "source": [
    "dets_df = pp.process_detections(\n",
    "    project=pp.project,\n",
    "    db_connection=pp.db_connection,\n",
    "    csv_paths=pp.csv_paths,\n",
    "    annotations_csv_path=mlp.eval_dir,\n",
    "    model_registry=mlp.registry,\n",
    "    model=model.value,\n",
    "    team_name=mlp.team_name,\n",
    "    project_name=mlp.project_name,\n",
    ")"
   ]
  },
  {
   "cell_type": "code",
   "execution_count": 26,
   "id": "ad91c4fb",
   "metadata": {},
   "outputs": [
    {
     "data": {
      "text/html": [
       "<div>\n",
       "<style scoped>\n",
       "    .dataframe tbody tr th:only-of-type {\n",
       "        vertical-align: middle;\n",
       "    }\n",
       "\n",
       "    .dataframe tbody tr th {\n",
       "        vertical-align: top;\n",
       "    }\n",
       "\n",
       "    .dataframe thead th {\n",
       "        text-align: right;\n",
       "    }\n",
       "</style>\n",
       "<table border=\"1\" class=\"dataframe\">\n",
       "  <thead>\n",
       "    <tr style=\"text-align: right;\">\n",
       "      <th></th>\n",
       "      <th>class_id</th>\n",
       "      <th>frame_no</th>\n",
       "      <th>x</th>\n",
       "      <th>y</th>\n",
       "      <th>w</th>\n",
       "      <th>h</th>\n",
       "      <th>conf</th>\n",
       "      <th>movie_filename</th>\n",
       "      <th>movie_id</th>\n",
       "      <th>commonName</th>\n",
       "      <th>...</th>\n",
       "      <th>siteName</th>\n",
       "      <th>fpath</th>\n",
       "      <th>decimalLatitude</th>\n",
       "      <th>decimalLongitude</th>\n",
       "      <th>geodeticDatum</th>\n",
       "      <th>countryCode</th>\n",
       "      <th>scientificName</th>\n",
       "      <th>taxonRank</th>\n",
       "      <th>kingdom</th>\n",
       "      <th>second_in_movie</th>\n",
       "    </tr>\n",
       "  </thead>\n",
       "  <tbody>\n",
       "    <tr>\n",
       "      <th>0</th>\n",
       "      <td>0</td>\n",
       "      <td>8</td>\n",
       "      <td>0.042244</td>\n",
       "      <td>0.685058</td>\n",
       "      <td>0.082922</td>\n",
       "      <td>0.104577</td>\n",
       "      <td>0.151638</td>\n",
       "      <td>movie_1</td>\n",
       "      <td>1</td>\n",
       "      <td>NAN</td>\n",
       "      <td>...</td>\n",
       "      <td>Site_1</td>\n",
       "      <td>https://www.wildlife.ai/wp-content/uploads/202...</td>\n",
       "      <td>-39.052281</td>\n",
       "      <td>174.023941</td>\n",
       "      <td>WGS84</td>\n",
       "      <td>NZ</td>\n",
       "      <td>NaN</td>\n",
       "      <td>NaN</td>\n",
       "      <td>NaN</td>\n",
       "      <td>0</td>\n",
       "    </tr>\n",
       "  </tbody>\n",
       "</table>\n",
       "<p>1 rows × 31 columns</p>\n",
       "</div>"
      ],
      "text/plain": [
       "   class_id  frame_no         x         y         w         h      conf  \\\n",
       "0         0         8  0.042244  0.685058  0.082922  0.104577  0.151638   \n",
       "\n",
       "  movie_filename  movie_id commonName  ...  siteName  \\\n",
       "0        movie_1         1        NAN  ...    Site_1   \n",
       "\n",
       "                                               fpath  decimalLatitude  \\\n",
       "0  https://www.wildlife.ai/wp-content/uploads/202...       -39.052281   \n",
       "\n",
       "   decimalLongitude geodeticDatum countryCode  scientificName  taxonRank  \\\n",
       "0        174.023941         WGS84          NZ             NaN        NaN   \n",
       "\n",
       "   kingdom  second_in_movie  \n",
       "0      NaN                0  \n",
       "\n",
       "[1 rows x 31 columns]"
      ]
     },
     "execution_count": 26,
     "metadata": {},
     "output_type": "execute_result"
    }
   ],
   "source": [
    "dets_df"
   ]
  },
  {
   "cell_type": "markdown",
   "id": "8e350a8c",
   "metadata": {
    "id": "8e350a8c"
   },
   "source": [
    "### Plot the processed detections"
   ]
  },
  {
   "cell_type": "code",
   "execution_count": 23,
   "id": "f235925d",
   "metadata": {
    "id": "f235925d"
   },
   "outputs": [
    {
     "name": "stderr",
     "output_type": "stream",
     "text": [
      "/Users/jurie.germishuys/Workspace/odf/koster-uw/kso/kso_utils/yolo_utils.py:2334: FutureWarning: 'S' is deprecated and will be removed in a future version, please use 's' instead.\n",
      "  interval = pd.Grouper(key=\"seconds_since_reference\", freq=str(int_length) + \"S\")\n"
     ]
    },
    {
     "data": {
      "image/png": "[encoded data removed]",
      "text/plain": [
       "<Figure size 1000x600 with 1 Axes>"
      ]
     },
     "metadata": {},
     "output_type": "display_data"
    }
   ],
   "source": [
    "pp.plot_processed_detections(\n",
    "    df=dets_df,\n",
    "    thres=10,  # number of seconds for thresholding in interval\n",
    "    int_length=10,  # length in seconds of interval for filtering\n",
    ")"
   ]
  },
  {
   "cell_type": "markdown",
   "id": "fd8e9077",
   "metadata": {
    "id": "fd8e9077"
   },
   "source": [
    "OPTIONAL #1 - Download the processed detections in a csv file for further analysis (e.g. comparisons between citizen scientists and experts)"
   ]
  },
  {
   "cell_type": "code",
   "execution_count": 24,
   "id": "1c3f90cb",
   "metadata": {
    "id": "1c3f90cb"
   },
   "outputs": [
    {
     "name": "stderr",
     "output_type": "stream",
     "text": [
      "INFO:root:The detections have been downloaded to Template project2024-08-08detections.csv\n"
     ]
    }
   ],
   "source": [
    "pp.download_detections_csv(dets_df)"
   ]
  },
  {
   "cell_type": "markdown",
   "id": "2192eca2",
   "metadata": {
    "id": "2192eca2"
   },
   "source": [
    "OPTIONAL #2 - Processed classifications with species as columns (For biodiversity purposes)"
   ]
  },
  {
   "cell_type": "code",
   "execution_count": null,
   "id": "1492e107",
   "metadata": {
    "id": "1492e107"
   },
   "outputs": [],
   "source": [
    "pp.download_detections_species_cols_csv(\n",
    "    df=dets_df,\n",
    ")"
   ]
  },
  {
   "cell_type": "markdown",
   "id": "d48985de",
   "metadata": {
    "id": "d48985de"
   },
   "source": [
    "OPTIONAL #3 - Download maxN annotations in GBIF/OBIS format (For biodiversity purposes)"
   ]
  },
  {
   "cell_type": "code",
   "execution_count": null,
   "id": "efa6102c",
   "metadata": {
    "id": "efa6102c"
   },
   "outputs": [],
   "source": [
    "pp.download_gbif_occurrences(\"ml_algorithms\", dets_df)"
   ]
  },
  {
   "cell_type": "markdown",
   "id": "-4ryFmu887d3",
   "metadata": {
    "id": "-4ryFmu887d3"
   },
   "source": [
    "OPTIONAL #4 - Upload csv with labels from previous model detections so that you can aggregate them for biogical analysis (For debugging purposes)"
   ]
  },
  {
   "cell_type": "code",
   "execution_count": null,
   "id": "890ce983",
   "metadata": {
    "id": "890ce983",
    "scrolled": true
   },
   "outputs": [],
   "source": [
    "mlp.widget_eval_dir = kso_widgets.choose_folder(\n",
    "    (\n",
    "        save_dir.selected\n",
    "        if \"save_dir\" in vars() and save_dir.selected is not None\n",
    "        else \".\"\n",
    "    ),\n",
    "    \"runs output\",\n",
    ")"
   ]
  },
  {
   "cell_type": "markdown",
   "id": "292a6aaf",
   "metadata": {
    "id": "292a6aaf"
   },
   "source": [
    "OPTIONAL #4 (Required!) - Load the path of the csv files"
   ]
  },
  {
   "cell_type": "code",
   "execution_count": null,
   "id": "6a5a85b6",
   "metadata": {
    "id": "6a5a85b6"
   },
   "outputs": [],
   "source": [
    "mlp.eval_dir = mlp.widget_eval_dir.selected"
   ]
  },
  {
   "cell_type": "code",
   "execution_count": null,
   "id": "racial-richardson",
   "metadata": {
    "id": "racial-richardson"
   },
   "outputs": [],
   "source": [
    "# END"
   ]
  }
 ],
 "metadata": {
  "accelerator": "GPU",
  "colab": {
   "gpuType": "T4",
   "provenance": []
  },
  "kernelspec": {
   "display_name": "Python 3 (ipykernel)",
   "language": "python",
   "name": "python3"
  },
  "language_info": {
   "codemirror_mode": {
    "name": "ipython",
    "version": 3
   },
   "file_extension": ".py",
   "mimetype": "text/x-python",
   "name": "python",
   "nbconvert_exporter": "python",
   "pygments_lexer": "ipython3",
   "version": "3.9.19"
  }
 },
 "nbformat": 4,
 "nbformat_minor": 5
}
